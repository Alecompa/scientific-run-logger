{
 "cells": [
  {
   "cell_type": "markdown",
   "id": "86b4a728-19bf-470f-b891-7a90474a5c8f",
   "metadata": {},
   "source": [
    "# Python interface to SQL database"
   ]
  },
  {
   "cell_type": "markdown",
   "id": "ab970593-2096-4188-9bbb-dd85145f1696",
   "metadata": {},
   "source": [
    "A Jupyter notebook that uses Python to interface with the SQL database \n",
    "written by the Metadata Logger.\n",
    "\n",
    "This is intended to be used for live investigation and analysis of acquired data. "
   ]
  },
  {
   "cell_type": "markdown",
   "id": "0d6db277-c2fe-44ed-a876-41c56bb04c66",
   "metadata": {},
   "source": [
    "The scirpt will retrieve data from the database and save it into a Pandas dataframe. \n",
    "This makes it easy to explore and analyse data during a measurement."
   ]
  },
  {
   "cell_type": "markdown",
   "id": "49877176-1937-40a6-8246-449068e75a78",
   "metadata": {},
   "source": [
    "## Dependencies"
   ]
  },
  {
   "cell_type": "markdown",
   "id": "1269e294-e73c-4c26-8e53-9aba1b0e5198",
   "metadata": {},
   "source": [
    "The next code block works as both an import and a dependency list for the script."
   ]
  },
  {
   "cell_type": "code",
   "execution_count": 112,
   "id": "ba48d372-9dea-4919-a2a7-1ea8c8c75ba0",
   "metadata": {},
   "outputs": [],
   "source": [
    "import pandas as pd\n",
    "from sqlite3 import connect\n",
    "import matplotlib.pyplot as plt"
   ]
  },
  {
   "cell_type": "markdown",
   "id": "8dc391a9-ebef-49ab-920b-0acecb2ea21b",
   "metadata": {},
   "source": [
    "## Input variables"
   ]
  },
  {
   "cell_type": "markdown",
   "id": "97fcab8c-d1f6-4274-8f9c-9a2a554debec",
   "metadata": {},
   "source": [
    "Variables used by the script. This is possibly the only part the end users should modify."
   ]
  },
  {
   "cell_type": "code",
   "execution_count": 147,
   "id": "2a22143d-fcd4-4648-a9c9-999e2fe2f2ae",
   "metadata": {},
   "outputs": [],
   "source": [
    "# Files\n",
    "filepath: str = \"../server/\"\n",
    "filename: str = \"db.sqlite\"\n",
    "fdt: str = filepath + filename\n",
    "\n",
    "# database\n",
    "columns: tuple = (\"run_number\", \"start_time\", \"run_type\", \"scan_number\", \n",
    "                  \"charge\", \"roi\", \"isit_trash\", \"notes\")\n",
    "table: str = \"runs\"\n",
    "date_columns: tuple = (\"start_time\")"
   ]
  },
  {
   "cell_type": "markdown",
   "id": "83dbb472-9b16-44bd-a4a6-8db558ecba80",
   "metadata": {},
   "source": [
    "## Import database"
   ]
  },
  {
   "cell_type": "markdown",
   "id": "b4756673-0a27-4b19-9905-24fabb35b7de",
   "metadata": {},
   "source": [
    "Import and read the database using `sqlite3` and `pandas` libraries."
   ]
  },
  {
   "cell_type": "code",
   "execution_count": 149,
   "id": "8432a9cf-7769-4a0c-8c2b-8248a4dd6d30",
   "metadata": {},
   "outputs": [],
   "source": [
    "# Create connection\n",
    "conn = connect(fdt)\n",
    "# Import the database into a pandas dataframe\n",
    "import_str: str = \"SELECT \" + \", \".join(columns) + \" FROM \" + table\n",
    "date_str: str = \", \".join(date_columns)\n",
    "\n",
    "data: pd.DataFrame = pd.read_sql(import_str, conn, parse_dates = date_columns)"
   ]
  },
  {
   "cell_type": "code",
   "execution_count": 150,
   "id": "f1875997-a4dc-4ca1-a8b7-0ace2b2f6f0f",
   "metadata": {},
   "outputs": [
    {
     "data": {
      "text/html": [
       "<div>\n",
       "<style scoped>\n",
       "    .dataframe tbody tr th:only-of-type {\n",
       "        vertical-align: middle;\n",
       "    }\n",
       "\n",
       "    .dataframe tbody tr th {\n",
       "        vertical-align: top;\n",
       "    }\n",
       "\n",
       "    .dataframe thead th {\n",
       "        text-align: right;\n",
       "    }\n",
       "</style>\n",
       "<table border=\"1\" class=\"dataframe\">\n",
       "  <thead>\n",
       "    <tr style=\"text-align: right;\">\n",
       "      <th></th>\n",
       "      <th>run_number</th>\n",
       "      <th>start_time</th>\n",
       "      <th>run_type</th>\n",
       "      <th>scan_number</th>\n",
       "      <th>charge</th>\n",
       "      <th>roi</th>\n",
       "      <th>isit_trash</th>\n",
       "      <th>notes</th>\n",
       "    </tr>\n",
       "  </thead>\n",
       "  <tbody>\n",
       "    <tr>\n",
       "      <th>0</th>\n",
       "      <td>1</td>\n",
       "      <td>2024-06-24 11:35:00+00:00</td>\n",
       "      <td></td>\n",
       "      <td></td>\n",
       "      <td>123</td>\n",
       "      <td></td>\n",
       "      <td>No</td>\n",
       "      <td></td>\n",
       "    </tr>\n",
       "    <tr>\n",
       "      <th>1</th>\n",
       "      <td>2</td>\n",
       "      <td>2024-06-24 11:36:00+00:00</td>\n",
       "      <td></td>\n",
       "      <td></td>\n",
       "      <td>123</td>\n",
       "      <td></td>\n",
       "      <td>True</td>\n",
       "      <td></td>\n",
       "    </tr>\n",
       "    <tr>\n",
       "      <th>2</th>\n",
       "      <td>3</td>\n",
       "      <td>2024-06-24 11:36:00+00:00</td>\n",
       "      <td></td>\n",
       "      <td></td>\n",
       "      <td>123</td>\n",
       "      <td></td>\n",
       "      <td>Yes</td>\n",
       "      <td></td>\n",
       "    </tr>\n",
       "    <tr>\n",
       "      <th>3</th>\n",
       "      <td>4</td>\n",
       "      <td>2024-06-24 11:43:00+00:00</td>\n",
       "      <td></td>\n",
       "      <td></td>\n",
       "      <td>213</td>\n",
       "      <td></td>\n",
       "      <td></td>\n",
       "      <td></td>\n",
       "    </tr>\n",
       "    <tr>\n",
       "      <th>4</th>\n",
       "      <td>5</td>\n",
       "      <td>2024-06-24 11:43:00+00:00</td>\n",
       "      <td></td>\n",
       "      <td></td>\n",
       "      <td>213</td>\n",
       "      <td></td>\n",
       "      <td></td>\n",
       "      <td></td>\n",
       "    </tr>\n",
       "  </tbody>\n",
       "</table>\n",
       "</div>"
      ],
      "text/plain": [
       "   run_number                start_time run_type scan_number charge roi  \\\n",
       "0           1 2024-06-24 11:35:00+00:00                         123       \n",
       "1           2 2024-06-24 11:36:00+00:00                         123       \n",
       "2           3 2024-06-24 11:36:00+00:00                         123       \n",
       "3           4 2024-06-24 11:43:00+00:00                         213       \n",
       "4           5 2024-06-24 11:43:00+00:00                         213       \n",
       "\n",
       "  isit_trash notes  \n",
       "0         No        \n",
       "1       True        \n",
       "2        Yes        \n",
       "3                   \n",
       "4                   "
      ]
     },
     "execution_count": 150,
     "metadata": {},
     "output_type": "execute_result"
    }
   ],
   "source": [
    "data.head()"
   ]
  },
  {
   "cell_type": "markdown",
   "id": "db9f1553-5715-4896-8b5a-cabdf90602fc",
   "metadata": {},
   "source": [
    "## Plot"
   ]
  },
  {
   "cell_type": "markdown",
   "id": "c5276bf5-644d-44e4-8082-629cbb15765b",
   "metadata": {},
   "source": [
    "Draw plots useful for online monitoring of the acquisition."
   ]
  },
  {
   "cell_type": "code",
   "execution_count": 152,
   "id": "8c5671e7-3a86-4f76-a098-8d3d94a7910b",
   "metadata": {},
   "outputs": [
    {
     "data": {
      "image/png": "[encoded data removed]",
      "text/plain": [
       "<Figure size 640x480 with 1 Axes>"
      ]
     },
     "metadata": {},
     "output_type": "display_data"
    }
   ],
   "source": [
    "fig, ax = plt.subplots()\n",
    "ax.scatter(data[\"start_time\"], data[\"charge\"], label=\"Acquired charge\")\n",
    "ax.set_xlabel(\"Dates\")\n",
    "ax.set_ylabel(\"Charge [uC]\")\n",
    "ax.grid()\n",
    "plt.show()"
   ]
  }
 ],
 "metadata": {
  "kernelspec": {
   "display_name": "Python 3 (ipykernel)",
   "language": "python",
   "name": "python3"
  },
  "language_info": {
   "codemirror_mode": {
    "name": "ipython",
    "version": 3
   },
   "file_extension": ".py",
   "mimetype": "text/x-python",
   "name": "python",
   "nbconvert_exporter": "python",
   "pygments_lexer": "ipython3",
   "version": "3.11.6"
  }
 },
 "nbformat": 4,
 "nbformat_minor": 5
}
